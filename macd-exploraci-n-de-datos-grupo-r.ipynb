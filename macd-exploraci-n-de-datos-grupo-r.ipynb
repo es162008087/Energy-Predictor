{
 "cells": [
  {
   "cell_type": "markdown",
   "id": "e3e68620",
   "metadata": {
    "_cell_guid": "b1076dfc-b9ad-4769-8c92-a6c4dae69d19",
    "_uuid": "8f2839f25d086af736a60e9eeb907d3b93b6e0e5",
    "papermill": {
     "duration": 0.01069,
     "end_time": "2022-10-08T16:59:39.828714",
     "exception": false,
     "start_time": "2022-10-08T16:59:39.818024",
     "status": "completed"
    },
    "tags": []
   },
   "source": [
    "# MACD Exploración de Datos Grupo R\n",
    "### Integrantes del Grupo:\n",
    "<ul>\n",
    "    <li>\n",
    "Jose Alfredo Peto Martinez\n",
    "    </li>\n",
    "    <li>\n",
    "Alvaro Miguel Toriz Proenza\n",
    "    </li>\n",
    "    <li>\n",
    "Carlos Antonio Rico Martínez\n",
    "    </li>\n",
    "</ul>\n",
    "\n",
    "### Objetivos:\n",
    "\n",
    "<ul>\n",
    "    <li>\n",
    "Describe cual es la relación de tu variable objetivo con las demás variables presentes.\n",
    "    </li>\n",
    "    <li>\n",
    "Determina cuales son las variables que tienen mayor correlación con tu objetivo. \n",
    "    </li>\n",
    "    <li>\n",
    "Aplica ingeniería de características para diseñar nuevas características en tu conjunto de datos. \n",
    "    </li>\n",
    "    <li>\n",
    "Modela tus datos de dos o más formas diferentes para comparar los resultados.\n",
    "    </li>\n",
    "</ul>\n"
   ]
  },
  {
   "cell_type": "markdown",
   "id": "184c7094",
   "metadata": {
    "papermill": {
     "duration": 0.008909,
     "end_time": "2022-10-08T16:59:39.847086",
     "exception": false,
     "start_time": "2022-10-08T16:59:39.838177",
     "status": "completed"
    },
    "tags": []
   },
   "source": [
    "![](https://toriz.net/images/Energy_Predictor_2022-10-05%2019-44-35.jpg)"
   ]
  },
  {
   "cell_type": "markdown",
   "id": "5f458667",
   "metadata": {
    "papermill": {
     "duration": 0.009459,
     "end_time": "2022-10-08T16:59:39.866224",
     "exception": false,
     "start_time": "2022-10-08T16:59:39.856765",
     "status": "completed"
    },
    "tags": []
   },
   "source": [
    "https://www.kaggle.com/competitions/ashrae-energy-prediction"
   ]
  },
  {
   "cell_type": "markdown",
   "id": "c5c41e6f",
   "metadata": {
    "papermill": {
     "duration": 0.009008,
     "end_time": "2022-10-08T16:59:39.886078",
     "exception": false,
     "start_time": "2022-10-08T16:59:39.877070",
     "status": "completed"
    },
    "tags": []
   },
   "source": [
    "## Relación de nuestra variable objetivo con las demás variables presentes"
   ]
  },
  {
   "cell_type": "markdown",
   "id": "1d18ca0c",
   "metadata": {
    "papermill": {
     "duration": 0.008938,
     "end_time": "2022-10-08T16:59:39.904337",
     "exception": false,
     "start_time": "2022-10-08T16:59:39.895399",
     "status": "completed"
    },
    "tags": []
   },
   "source": [
    "Este ejercicio trata de la construcción de modelos a través de las tasas de uso históricas y el clima observado sobre el uso de energía medido en edificios en las siguientes áreas: medidores de agua helada, electricidad, agua caliente y vapor. Los datos provienen de más de 1000 edificios en varios sitios diferentes alrededor del mundo, durante un período de tres años. Una vez que se reacondiciona un edificio, el consumo de energía nuevo (más bajo) se compara con los valores modelados del edificio original para calcular los ahorros de la modernización.\n",
    "\n",
    "La variable meta es meter_reading, que se refiere al consumo de energía en kWh.\n",
    "\n",
    "Las variables que se relacionan con la variable meta son: \n",
    "<ul>\n",
    "    <li>\n",
    "primary_use: indicador de la categoría principal de actividades para el edificio según las definiciones de tipo de propiedad de EnergyStar\n",
    "    </li>\n",
    "    <li>\n",
    "square_feet - Superficie bruta del edificio\n",
    "            </li>\n",
    "    <li>\n",
    "year_built - Año en que se inauguró el edificio\n",
    "            </li>\n",
    "    <li>\n",
    "floor_count - Número de pisos del edificio\n",
    "            </li>\n",
    "    <li>\n",
    "air_temperature - Grados Celsius\n",
    "            </li>\n",
    "    <li>\n",
    "cloud_coverage - Porción del cielo cubierta de nubes, en octas\n",
    "            </li>\n",
    "    <li>\n",
    "dew_temperature - Grados Celsius\n",
    "            </li>\n",
    "    <li>\n",
    "precip_depth_1_hr - Milímetros\n",
    "            </li>\n",
    "    <li>\n",
    "sea_level_pression - Milibar/hectopascales\n",
    "            </li>\n",
    "    <li>\n",
    "wind_direction - Dirección de la brújula (0-360)\n",
    "            </li>\n",
    "    <li>\n",
    "wind_speed - Metros por segundo\n",
    "    </li>\n",
    "    </ul>"
   ]
  },
  {
   "cell_type": "markdown",
   "id": "7bc9616f",
   "metadata": {
    "papermill": {
     "duration": 0.009016,
     "end_time": "2022-10-08T16:59:39.922559",
     "exception": false,
     "start_time": "2022-10-08T16:59:39.913543",
     "status": "completed"
    },
    "tags": []
   },
   "source": [
    "## Variables que tienen mayor correlación con nuestro objetivo"
   ]
  },
  {
   "cell_type": "markdown",
   "id": "75a7af55",
   "metadata": {
    "papermill": {
     "duration": 0.008804,
     "end_time": "2022-10-08T16:59:39.940574",
     "exception": false,
     "start_time": "2022-10-08T16:59:39.931770",
     "status": "completed"
    },
    "tags": []
   },
   "source": [
    "Después de la visualización de los datos, se eliminan las siguientes variables: 'year_built', 'floor_count', 'wind_direction', 'dew_temperature'. También de acuerdo con esta visualización, se puede considerar que las que tienen una mayor relación con nuestro objetivo son: 'air_temperature', 'wind_speed', 'precip_depth_1_hr', 'cloud_coverage', 'square_feet' y 'primary_use'"
   ]
  },
  {
   "cell_type": "markdown",
   "id": "401d067c",
   "metadata": {
    "execution": {
     "iopub.execute_input": "2022-10-05T20:13:34.155441Z",
     "iopub.status.busy": "2022-10-05T20:13:34.155039Z",
     "iopub.status.idle": "2022-10-05T20:13:34.184419Z",
     "shell.execute_reply": "2022-10-05T20:13:34.183475Z",
     "shell.execute_reply.started": "2022-10-05T20:13:34.155362Z"
    },
    "papermill": {
     "duration": 0.009383,
     "end_time": "2022-10-08T16:59:39.959275",
     "exception": false,
     "start_time": "2022-10-08T16:59:39.949892",
     "status": "completed"
    },
    "tags": []
   },
   "source": [
    "## Nuevas características en nuestro conjunto de datos en base a ingeniería de características"
   ]
  },
  {
   "cell_type": "markdown",
   "id": "11c319a2",
   "metadata": {
    "papermill": {
     "duration": 0.008987,
     "end_time": "2022-10-08T16:59:39.977769",
     "exception": false,
     "start_time": "2022-10-08T16:59:39.968782",
     "status": "completed"
    },
    "tags": []
   },
   "source": [
    "Se crearon las siguientes nuevas características, a partir de la variable 'primary_use':\n",
    "<ul>\n",
    "    <li>\n",
    "'primary_use_Education'\n",
    "    </li>\n",
    "    <li>\n",
    "'primary_use_Entertainment/public assembly'\n",
    "    </li>\n",
    "    <li>\n",
    "'primary_use_Food sales and service'\n",
    "    </li>\n",
    "    <li>\n",
    "'primary_use_Healthcare'\n",
    "    </li>\n",
    "    <li>\n",
    "'primary_use_Lodging/residential'\n",
    "    </li>\n",
    "    <li>\n",
    "'primary_use_Manufacturing/industrial'\n",
    "    </li>\n",
    "    <li>\n",
    "'primary_use_Office'\n",
    "    </li>\n",
    "    <li>\n",
    "'primary_use_Other'\n",
    "    </li>\n",
    "    <li>\n",
    "'primary_use_Parking'\n",
    "    </li>\n",
    "    <li>\n",
    "'primary_use_Public services'\n",
    "    </li>\n",
    "    <li>\n",
    "'primary_use_Religious worship'\n",
    "    </li>\n",
    "    <li>\n",
    "'primary_use_Retail'\n",
    "    </li>\n",
    "    <li>\n",
    "'primary_use_Services'\n",
    "    </li>\n",
    "    <li>\n",
    "'primary_use_Technology/science'\n",
    "    </li>\n",
    "    <li>\n",
    "'primary_use_Utility'\n",
    "    </li>\n",
    "    <li>\n",
    "'primary_use_Warehouse/storage'\n",
    "    </li>\n",
    "    </ul>"
   ]
  },
  {
   "cell_type": "markdown",
   "id": "9b95fd82",
   "metadata": {
    "papermill": {
     "duration": 0.008962,
     "end_time": "2022-10-08T16:59:39.996335",
     "exception": false,
     "start_time": "2022-10-08T16:59:39.987373",
     "status": "completed"
    },
    "tags": []
   },
   "source": [
    "## Modelación de nuestros datos de dos formas diferentes para comparar los resultados"
   ]
  },
  {
   "cell_type": "code",
   "execution_count": 1,
   "id": "bb90408e",
   "metadata": {
    "execution": {
     "iopub.execute_input": "2022-10-08T16:59:40.018061Z",
     "iopub.status.busy": "2022-10-08T16:59:40.017235Z",
     "iopub.status.idle": "2022-10-08T16:59:41.596233Z",
     "shell.execute_reply": "2022-10-08T16:59:41.594894Z"
    },
    "papermill": {
     "duration": 1.59327,
     "end_time": "2022-10-08T16:59:41.599217",
     "exception": false,
     "start_time": "2022-10-08T16:59:40.005947",
     "status": "completed"
    },
    "tags": []
   },
   "outputs": [],
   "source": [
    "import numpy as np\n",
    "import pandas as pd\n",
    "from sklearn import linear_model\n",
    "from sklearn.model_selection import train_test_split\n",
    "from sklearn.metrics import mean_squared_error,mean_absolute_error\n",
    "import matplotlib.pyplot as plt\n",
    "import datetime\n",
    "from sklearn import metrics\n",
    "import seaborn as sns\n",
    "import sklearn.ensemble as ske\n",
    "import gc\n",
    "import os\n",
    "from sklearn.linear_model import LinearRegression,SGDRegressor,ElasticNet,Ridge\n",
    "from sklearn.metrics import mean_absolute_error\n",
    "from sklearn.tree import DecisionTreeRegressor"
   ]
  },
  {
   "cell_type": "code",
   "execution_count": 2,
   "id": "68ee8fda",
   "metadata": {
    "execution": {
     "iopub.execute_input": "2022-10-08T16:59:41.620528Z",
     "iopub.status.busy": "2022-10-08T16:59:41.619611Z",
     "iopub.status.idle": "2022-10-08T16:59:41.626522Z",
     "shell.execute_reply": "2022-10-08T16:59:41.625379Z"
    },
    "papermill": {
     "duration": 0.020739,
     "end_time": "2022-10-08T16:59:41.629642",
     "exception": false,
     "start_time": "2022-10-08T16:59:41.608903",
     "status": "completed"
    },
    "tags": []
   },
   "outputs": [
    {
     "name": "stdout",
     "output_type": "stream",
     "text": [
      "['sample_submission.csv', 'building_metadata.csv', 'weather_train.csv', 'weather_test.csv', 'train.csv', 'test.csv']\n"
     ]
    }
   ],
   "source": [
    "# Archivos presentes en el Input\n",
    "print(os.listdir('../input/ashrae-energy-prediction'))"
   ]
  },
  {
   "cell_type": "code",
   "execution_count": 3,
   "id": "026a5a69",
   "metadata": {
    "execution": {
     "iopub.execute_input": "2022-10-08T16:59:41.651775Z",
     "iopub.status.busy": "2022-10-08T16:59:41.650981Z",
     "iopub.status.idle": "2022-10-08T16:59:41.660334Z",
     "shell.execute_reply": "2022-10-08T16:59:41.659026Z"
    },
    "papermill": {
     "duration": 0.022805,
     "end_time": "2022-10-08T16:59:41.662855",
     "exception": false,
     "start_time": "2022-10-08T16:59:41.640050",
     "status": "completed"
    },
    "tags": []
   },
   "outputs": [],
   "source": [
    "# Función para leer y hacer una primera revisión de los datos\n",
    "def read_and_interpret_data(filename):\n",
    "    path = \"../input/ashrae-energy-prediction\"\n",
    "    df = pd.read_csv('{0}/{1}'.format(path,filename))\n",
    "    print(\"~~~~~~Perfil de los datos~~~~~~ : \",df.shape)\n",
    "    print(\"~~~~~~Columnas con su datatype~~~~~~ : \")\n",
    "    print(df.info())\n",
    "    print(\"~~~~~~Primeros datos~~~~~~ : \")\n",
    "    print(df.head())\n",
    "    print(\"~~~~~~Últimos datos~~~~~~ : \")\n",
    "    print(df.tail())\n",
    "    print(\"~~~~~~Descripción de los datos~~~~~~ : \")\n",
    "    print(df.describe())\n",
    "    print(\"~~~~~~Datos faltantes~~~~~~ : \")\n",
    "    print(df.isna().sum())\n",
    "    if 'timestamp' in df.columns: \n",
    "        df['timestamp'] = pd.to_datetime(df['timestamp'],format = \"%Y-%m-%d %H:%M:%S\")\n",
    "        print(\"~~~~~~Años de los datos~~~~~~ :\")\n",
    "        print(df.timestamp.dt.year.unique())\n",
    "    return df"
   ]
  },
  {
   "cell_type": "code",
   "execution_count": 4,
   "id": "e3d9e216",
   "metadata": {
    "execution": {
     "iopub.execute_input": "2022-10-08T16:59:41.684392Z",
     "iopub.status.busy": "2022-10-08T16:59:41.683952Z",
     "iopub.status.idle": "2022-10-08T17:00:05.941885Z",
     "shell.execute_reply": "2022-10-08T17:00:05.939240Z"
    },
    "papermill": {
     "duration": 24.271971,
     "end_time": "2022-10-08T17:00:05.944662",
     "exception": false,
     "start_time": "2022-10-08T16:59:41.672691",
     "status": "completed"
    },
    "tags": []
   },
   "outputs": [
    {
     "name": "stdout",
     "output_type": "stream",
     "text": [
      "~~~~~~Perfil de los datos~~~~~~ :  (20216100, 4)\n",
      "~~~~~~Columnas con su datatype~~~~~~ : \n",
      "<class 'pandas.core.frame.DataFrame'>\n",
      "RangeIndex: 20216100 entries, 0 to 20216099\n",
      "Data columns (total 4 columns):\n",
      " #   Column         Dtype  \n",
      "---  ------         -----  \n",
      " 0   building_id    int64  \n",
      " 1   meter          int64  \n",
      " 2   timestamp      object \n",
      " 3   meter_reading  float64\n",
      "dtypes: float64(1), int64(2), object(1)\n",
      "memory usage: 616.9+ MB\n",
      "None\n",
      "~~~~~~Primeros datos~~~~~~ : \n",
      "   building_id  meter            timestamp  meter_reading\n",
      "0            0      0  2016-01-01 00:00:00            0.0\n",
      "1            1      0  2016-01-01 00:00:00            0.0\n",
      "2            2      0  2016-01-01 00:00:00            0.0\n",
      "3            3      0  2016-01-01 00:00:00            0.0\n",
      "4            4      0  2016-01-01 00:00:00            0.0\n",
      "~~~~~~Últimos datos~~~~~~ : \n",
      "          building_id  meter            timestamp  meter_reading\n",
      "20216095         1444      0  2016-12-31 23:00:00          8.750\n",
      "20216096         1445      0  2016-12-31 23:00:00          4.825\n",
      "20216097         1446      0  2016-12-31 23:00:00          0.000\n",
      "20216098         1447      0  2016-12-31 23:00:00        159.575\n",
      "20216099         1448      0  2016-12-31 23:00:00          2.850\n",
      "~~~~~~Descripción de los datos~~~~~~ : \n",
      "        building_id         meter  meter_reading\n",
      "count  2.021610e+07  2.021610e+07   2.021610e+07\n",
      "mean   7.992780e+02  6.624412e-01   2.117121e+03\n",
      "std    4.269133e+02  9.309921e-01   1.532356e+05\n",
      "min    0.000000e+00  0.000000e+00   0.000000e+00\n",
      "25%    3.930000e+02  0.000000e+00   1.830000e+01\n",
      "50%    8.950000e+02  0.000000e+00   7.877500e+01\n",
      "75%    1.179000e+03  1.000000e+00   2.679840e+02\n",
      "max    1.448000e+03  3.000000e+00   2.190470e+07\n",
      "~~~~~~Datos faltantes~~~~~~ : \n",
      "building_id      0\n",
      "meter            0\n",
      "timestamp        0\n",
      "meter_reading    0\n",
      "dtype: int64\n",
      "~~~~~~Años de los datos~~~~~~ :\n",
      "[2016]\n"
     ]
    }
   ],
   "source": [
    "df_train = read_and_interpret_data('train.csv')"
   ]
  },
  {
   "cell_type": "code",
   "execution_count": 5,
   "id": "f9b13aae",
   "metadata": {
    "execution": {
     "iopub.execute_input": "2022-10-08T17:00:05.968319Z",
     "iopub.status.busy": "2022-10-08T17:00:05.967796Z",
     "iopub.status.idle": "2022-10-08T17:00:06.356666Z",
     "shell.execute_reply": "2022-10-08T17:00:06.355427Z"
    },
    "papermill": {
     "duration": 0.404391,
     "end_time": "2022-10-08T17:00:06.360238",
     "exception": false,
     "start_time": "2022-10-08T17:00:05.955847",
     "status": "completed"
    },
    "tags": []
   },
   "outputs": [
    {
     "name": "stdout",
     "output_type": "stream",
     "text": [
      "~~~~~~Perfil de los datos~~~~~~ :  (139773, 9)\n",
      "~~~~~~Columnas con su datatype~~~~~~ : \n",
      "<class 'pandas.core.frame.DataFrame'>\n",
      "RangeIndex: 139773 entries, 0 to 139772\n",
      "Data columns (total 9 columns):\n",
      " #   Column              Non-Null Count   Dtype  \n",
      "---  ------              --------------   -----  \n",
      " 0   site_id             139773 non-null  int64  \n",
      " 1   timestamp           139773 non-null  object \n",
      " 2   air_temperature     139718 non-null  float64\n",
      " 3   cloud_coverage      70600 non-null   float64\n",
      " 4   dew_temperature     139660 non-null  float64\n",
      " 5   precip_depth_1_hr   89484 non-null   float64\n",
      " 6   sea_level_pressure  129155 non-null  float64\n",
      " 7   wind_direction      133505 non-null  float64\n",
      " 8   wind_speed          139469 non-null  float64\n",
      "dtypes: float64(7), int64(1), object(1)\n",
      "memory usage: 9.6+ MB\n",
      "None\n",
      "~~~~~~Primeros datos~~~~~~ : \n",
      "   site_id            timestamp  air_temperature  cloud_coverage  \\\n",
      "0        0  2016-01-01 00:00:00             25.0             6.0   \n",
      "1        0  2016-01-01 01:00:00             24.4             NaN   \n",
      "2        0  2016-01-01 02:00:00             22.8             2.0   \n",
      "3        0  2016-01-01 03:00:00             21.1             2.0   \n",
      "4        0  2016-01-01 04:00:00             20.0             2.0   \n",
      "\n",
      "   dew_temperature  precip_depth_1_hr  sea_level_pressure  wind_direction  \\\n",
      "0             20.0                NaN              1019.7             0.0   \n",
      "1             21.1               -1.0              1020.2            70.0   \n",
      "2             21.1                0.0              1020.2             0.0   \n",
      "3             20.6                0.0              1020.1             0.0   \n",
      "4             20.0               -1.0              1020.0           250.0   \n",
      "\n",
      "   wind_speed  \n",
      "0         0.0  \n",
      "1         1.5  \n",
      "2         0.0  \n",
      "3         0.0  \n",
      "4         2.6  \n",
      "~~~~~~Últimos datos~~~~~~ : \n",
      "        site_id            timestamp  air_temperature  cloud_coverage  \\\n",
      "139768       15  2016-12-31 19:00:00              3.0             NaN   \n",
      "139769       15  2016-12-31 20:00:00              2.8             2.0   \n",
      "139770       15  2016-12-31 21:00:00              2.8             NaN   \n",
      "139771       15  2016-12-31 22:00:00              2.2             NaN   \n",
      "139772       15  2016-12-31 23:00:00              1.7             NaN   \n",
      "\n",
      "        dew_temperature  precip_depth_1_hr  sea_level_pressure  \\\n",
      "139768             -8.0                NaN                 NaN   \n",
      "139769             -8.9                NaN              1007.4   \n",
      "139770             -7.2                NaN              1007.5   \n",
      "139771             -6.7                NaN              1008.0   \n",
      "139772             -5.6               -1.0              1008.5   \n",
      "\n",
      "        wind_direction  wind_speed  \n",
      "139768           180.0         5.7  \n",
      "139769           180.0         7.7  \n",
      "139770           180.0         5.1  \n",
      "139771           170.0         4.6  \n",
      "139772           180.0         8.8  \n",
      "~~~~~~Descripción de los datos~~~~~~ : \n",
      "             site_id  air_temperature  cloud_coverage  dew_temperature  \\\n",
      "count  139773.000000    139718.000000    70600.000000    139660.000000   \n",
      "mean        7.478977        14.418106        2.149306         7.350158   \n",
      "std         4.604744        10.626595        2.599150         9.790235   \n",
      "min         0.000000       -28.900000        0.000000       -35.000000   \n",
      "25%         3.000000         7.200000        0.000000         0.600000   \n",
      "50%         7.000000        15.000000        2.000000         8.300000   \n",
      "75%        11.000000        22.200000        4.000000        14.400000   \n",
      "max        15.000000        47.200000        9.000000        26.100000   \n",
      "\n",
      "       precip_depth_1_hr  sea_level_pressure  wind_direction     wind_speed  \n",
      "count       89484.000000       129155.000000   133505.000000  139469.000000  \n",
      "mean            0.983047         1016.158038      180.526632       3.560527  \n",
      "std             8.463678            7.629684      111.523629       2.335874  \n",
      "min            -1.000000          968.200000        0.000000       0.000000  \n",
      "25%             0.000000         1011.800000       80.000000       2.100000  \n",
      "50%             0.000000         1016.400000      190.000000       3.100000  \n",
      "75%             0.000000         1020.800000      280.000000       5.000000  \n",
      "max           343.000000         1045.500000      360.000000      19.000000  \n",
      "~~~~~~Datos faltantes~~~~~~ : \n",
      "site_id                   0\n",
      "timestamp                 0\n",
      "air_temperature          55\n",
      "cloud_coverage        69173\n",
      "dew_temperature         113\n",
      "precip_depth_1_hr     50289\n",
      "sea_level_pressure    10618\n",
      "wind_direction         6268\n",
      "wind_speed              304\n",
      "dtype: int64\n",
      "~~~~~~Años de los datos~~~~~~ :\n",
      "[2016]\n"
     ]
    }
   ],
   "source": [
    "df_weather_train = read_and_interpret_data('weather_train.csv')"
   ]
  },
  {
   "cell_type": "code",
   "execution_count": 6,
   "id": "6e46f2cf",
   "metadata": {
    "execution": {
     "iopub.execute_input": "2022-10-08T17:00:06.383940Z",
     "iopub.status.busy": "2022-10-08T17:00:06.383013Z",
     "iopub.status.idle": "2022-10-08T17:00:56.570990Z",
     "shell.execute_reply": "2022-10-08T17:00:56.569086Z"
    },
    "papermill": {
     "duration": 50.204631,
     "end_time": "2022-10-08T17:00:56.576188",
     "exception": false,
     "start_time": "2022-10-08T17:00:06.371557",
     "status": "completed"
    },
    "tags": []
   },
   "outputs": [],
   "source": [
    "DATA_PATH = \"../input/ashrae-energy-prediction/\"\n",
    "Weather_Train = pd.read_csv(DATA_PATH + 'weather_train.csv')\n",
    "Weather_Test= weather_df = pd.read_csv(DATA_PATH + 'weather_test.csv')\n",
    "Test= pd.read_csv(DATA_PATH +'test.csv')\n",
    "Train= pd.read_csv(DATA_PATH +'train.csv')\n",
    "Building= pd.read_csv(DATA_PATH +'building_metadata.csv')"
   ]
  },
  {
   "cell_type": "code",
   "execution_count": 7,
   "id": "bc930e9b",
   "metadata": {
    "execution": {
     "iopub.execute_input": "2022-10-08T17:00:56.601651Z",
     "iopub.status.busy": "2022-10-08T17:00:56.601171Z",
     "iopub.status.idle": "2022-10-08T17:00:56.617605Z",
     "shell.execute_reply": "2022-10-08T17:00:56.616363Z"
    },
    "papermill": {
     "duration": 0.03128,
     "end_time": "2022-10-08T17:00:56.619944",
     "exception": false,
     "start_time": "2022-10-08T17:00:56.588664",
     "status": "completed"
    },
    "tags": []
   },
   "outputs": [],
   "source": [
    "# Función para la reducción de uso de memoria\n",
    "def reduce_mem_usage(df):\n",
    "    \"\"\" itera a través de todas las columnas de un \"dataframe\" y modificar el tipo de datos\n",
    "         para reducir el uso de la memoria.        \n",
    "    \"\"\"\n",
    "    start_mem = df.memory_usage().sum() / 1024**2\n",
    "    print('El uso de memoria del \"dataframe\" es {:.2f} MB'.format(start_mem))\n",
    "    \n",
    "    for col in df.columns:\n",
    "        col_type = df[col].dtype\n",
    "        \n",
    "        if col_type != object:\n",
    "            c_min = df[col].min()\n",
    "            c_max = df[col].max()\n",
    "            if str(col_type)[:3] == 'int':\n",
    "                if c_min > np.iinfo(np.int8).min and c_max < np.iinfo(np.int8).max:\n",
    "                    df[col] = df[col].astype(np.int8)\n",
    "                elif c_min > np.iinfo(np.int16).min and c_max < np.iinfo(np.int16).max:\n",
    "                    df[col] = df[col].astype(np.int16)\n",
    "                elif c_min > np.iinfo(np.int32).min and c_max < np.iinfo(np.int32).max:\n",
    "                    df[col] = df[col].astype(np.int32)\n",
    "                elif c_min > np.iinfo(np.int64).min and c_max < np.iinfo(np.int64).max:\n",
    "                    df[col] = df[col].astype(np.int64)  \n",
    "            else:\n",
    "                if c_min > np.finfo(np.float16).min and c_max < np.finfo(np.float16).max:\n",
    "                    df[col] = df[col].astype(np.float16)\n",
    "                elif c_min > np.finfo(np.float32).min and c_max < np.finfo(np.float32).max:\n",
    "                    df[col] = df[col].astype(np.float32)\n",
    "                else:\n",
    "                    df[col] = df[col].astype(np.float64)\n",
    "        else:\n",
    "            df[col] = df[col].astype('category')\n",
    "    \n",
    "    end_mem = df.memory_usage().sum() / 1024**2\n",
    "    print('El uso de memoria después de la optimización es: {:.2f} MB'.format(end_mem))\n",
    "    print('Disminuido en {:.1f}%'.format(100 * (start_mem - end_mem) / start_mem))\n",
    "    return df"
   ]
  },
  {
   "cell_type": "code",
   "execution_count": 8,
   "id": "266567fc",
   "metadata": {
    "execution": {
     "iopub.execute_input": "2022-10-08T17:00:56.642524Z",
     "iopub.status.busy": "2022-10-08T17:00:56.641866Z",
     "iopub.status.idle": "2022-10-08T17:01:04.960074Z",
     "shell.execute_reply": "2022-10-08T17:01:04.958563Z"
    },
    "papermill": {
     "duration": 8.333138,
     "end_time": "2022-10-08T17:01:04.963336",
     "exception": false,
     "start_time": "2022-10-08T17:00:56.630198",
     "status": "completed"
    },
    "tags": []
   },
   "outputs": [
    {
     "name": "stdout",
     "output_type": "stream",
     "text": [
      "El uso de memoria del \"dataframe\" es 616.95 MB\n",
      "El uso de memoria después de la optimización es: 173.84 MB\n",
      "Disminuido en 71.8%\n",
      "El uso de memoria del \"dataframe\" es 1272.51 MB\n",
      "El uso de memoria después de la optimización es: 358.53 MB\n",
      "Disminuido en 71.8%\n",
      "El uso de memoria del \"dataframe\" es 9.60 MB\n",
      "El uso de memoria después de la optimización es: 2.59 MB\n",
      "Disminuido en 73.1%\n",
      "El uso de memoria del \"dataframe\" es 19.04 MB\n",
      "El uso de memoria después de la optimización es: 5.13 MB\n",
      "Disminuido en 73.0%\n",
      "El uso de memoria del \"dataframe\" es 0.07 MB\n",
      "El uso de memoria después de la optimización es: 0.02 MB\n",
      "Disminuido en 73.9%\n"
     ]
    }
   ],
   "source": [
    "Train = reduce_mem_usage(Train)\n",
    "Test = reduce_mem_usage(Test)\n",
    "Weather_Train = reduce_mem_usage(Weather_Train)\n",
    "Weather_Test = reduce_mem_usage(Weather_Test)\n",
    "Building = reduce_mem_usage(Building)"
   ]
  },
  {
   "cell_type": "code",
   "execution_count": 9,
   "id": "c82316b8",
   "metadata": {
    "execution": {
     "iopub.execute_input": "2022-10-08T17:01:04.986152Z",
     "iopub.status.busy": "2022-10-08T17:01:04.985327Z",
     "iopub.status.idle": "2022-10-08T17:01:14.089301Z",
     "shell.execute_reply": "2022-10-08T17:01:14.088024Z"
    },
    "papermill": {
     "duration": 9.118198,
     "end_time": "2022-10-08T17:01:14.092181",
     "exception": false,
     "start_time": "2022-10-08T17:01:04.973983",
     "status": "completed"
    },
    "tags": []
   },
   "outputs": [
    {
     "data": {
      "text/plain": [
       "Index(['site_id', 'building_id', 'primary_use', 'square_feet', 'year_built',\n",
       "       'floor_count', 'meter', 'timestamp', 'meter_reading', 'air_temperature',\n",
       "       'cloud_coverage', 'dew_temperature', 'precip_depth_1_hr',\n",
       "       'sea_level_pressure', 'wind_direction', 'wind_speed'],\n",
       "      dtype='object')"
      ]
     },
     "execution_count": 9,
     "metadata": {},
     "output_type": "execute_result"
    }
   ],
   "source": [
    "results = Building.merge(Train,left_on='building_id',right_on='building_id',how='left')\n",
    "data = results.merge(Weather_Train,left_on=['site_id','timestamp'],right_on=['site_id','timestamp'],how='left')\n",
    "data.columns"
   ]
  },
  {
   "cell_type": "code",
   "execution_count": 10,
   "id": "6a8536a5",
   "metadata": {
    "execution": {
     "iopub.execute_input": "2022-10-08T17:01:14.114479Z",
     "iopub.status.busy": "2022-10-08T17:01:14.114074Z",
     "iopub.status.idle": "2022-10-08T17:01:14.120246Z",
     "shell.execute_reply": "2022-10-08T17:01:14.118924Z"
    },
    "papermill": {
     "duration": 0.019962,
     "end_time": "2022-10-08T17:01:14.122521",
     "exception": false,
     "start_time": "2022-10-08T17:01:14.102559",
     "status": "completed"
    },
    "tags": []
   },
   "outputs": [],
   "source": [
    "def plot_hist(df,var_name):\n",
    "    plt.figure(figsize=(17,8))\n",
    "    plt.hist(df[var_name],bins = 50)\n",
    "    plt.title(f\"Histogram - {var_name}\")\n",
    "    plt.show()"
   ]
  },
  {
   "cell_type": "code",
   "execution_count": 11,
   "id": "6754be16",
   "metadata": {
    "execution": {
     "iopub.execute_input": "2022-10-08T17:01:14.145093Z",
     "iopub.status.busy": "2022-10-08T17:01:14.144310Z",
     "iopub.status.idle": "2022-10-08T17:01:14.489983Z",
     "shell.execute_reply": "2022-10-08T17:01:14.488559Z"
    },
    "papermill": {
     "duration": 0.359912,
     "end_time": "2022-10-08T17:01:14.492739",
     "exception": false,
     "start_time": "2022-10-08T17:01:14.132827",
     "status": "completed"
    },
    "tags": []
   },
   "outputs": [
    {
     "data": {
      "image/png": "[encoded data removed]",
      "text/plain": [
       "<Figure size 1224x576 with 1 Axes>"
      ]
     },
     "metadata": {
      "needs_background": "light"
     },
     "output_type": "display_data"
    }
   ],
   "source": [
    "plot_hist(Building,'year_built')"
   ]
  },
  {
   "cell_type": "code",
   "execution_count": 12,
   "id": "94c17036",
   "metadata": {
    "execution": {
     "iopub.execute_input": "2022-10-08T17:01:14.516103Z",
     "iopub.status.busy": "2022-10-08T17:01:14.515649Z",
     "iopub.status.idle": "2022-10-08T17:01:14.790912Z",
     "shell.execute_reply": "2022-10-08T17:01:14.789961Z"
    },
    "papermill": {
     "duration": 0.289465,
     "end_time": "2022-10-08T17:01:14.793182",
     "exception": false,
     "start_time": "2022-10-08T17:01:14.503717",
     "status": "completed"
    },
    "tags": []
   },
   "outputs": [
    {
     "data": {
      "image/png": "[encoded data removed]",
      "text/plain": [
       "<Figure size 1224x576 with 1 Axes>"
      ]
     },
     "metadata": {
      "needs_background": "light"
     },
     "output_type": "display_data"
    }
   ],
   "source": [
    "plot_hist(Building,'floor_count')"
   ]
  },
  {
   "cell_type": "code",
   "execution_count": 13,
   "id": "4dc49388",
   "metadata": {
    "execution": {
     "iopub.execute_input": "2022-10-08T17:01:14.818249Z",
     "iopub.status.busy": "2022-10-08T17:01:14.816844Z",
     "iopub.status.idle": "2022-10-08T17:01:16.983768Z",
     "shell.execute_reply": "2022-10-08T17:01:16.982566Z"
    },
    "papermill": {
     "duration": 2.181771,
     "end_time": "2022-10-08T17:01:16.986122",
     "exception": false,
     "start_time": "2022-10-08T17:01:14.804351",
     "status": "completed"
    },
    "tags": []
   },
   "outputs": [
    {
     "data": {
      "image/png": "[encoded data removed]",
      "text/plain": [
       "<Figure size 1224x576 with 1 Axes>"
      ]
     },
     "metadata": {
      "needs_background": "light"
     },
     "output_type": "display_data"
    }
   ],
   "source": [
    "plot_hist(data,'cloud_coverage')"
   ]
  },
  {
   "cell_type": "code",
   "execution_count": 14,
   "id": "6fc1177c",
   "metadata": {
    "execution": {
     "iopub.execute_input": "2022-10-08T17:01:17.010741Z",
     "iopub.status.busy": "2022-10-08T17:01:17.009854Z",
     "iopub.status.idle": "2022-10-08T17:01:19.767484Z",
     "shell.execute_reply": "2022-10-08T17:01:19.766229Z"
    },
    "papermill": {
     "duration": 2.772654,
     "end_time": "2022-10-08T17:01:19.770081",
     "exception": false,
     "start_time": "2022-10-08T17:01:16.997427",
     "status": "completed"
    },
    "tags": []
   },
   "outputs": [
    {
     "data": {
      "image/png": "[encoded data removed]",
      "text/plain": [
       "<Figure size 1224x576 with 1 Axes>"
      ]
     },
     "metadata": {
      "needs_background": "light"
     },
     "output_type": "display_data"
    }
   ],
   "source": [
    "plot_hist(data,'wind_speed')"
   ]
  },
  {
   "cell_type": "code",
   "execution_count": 15,
   "id": "171da0ba",
   "metadata": {
    "execution": {
     "iopub.execute_input": "2022-10-08T17:01:19.794952Z",
     "iopub.status.busy": "2022-10-08T17:01:19.794533Z",
     "iopub.status.idle": "2022-10-08T17:01:20.690408Z",
     "shell.execute_reply": "2022-10-08T17:01:20.689112Z"
    },
    "papermill": {
     "duration": 0.911232,
     "end_time": "2022-10-08T17:01:20.693031",
     "exception": false,
     "start_time": "2022-10-08T17:01:19.781799",
     "status": "completed"
    },
    "tags": []
   },
   "outputs": [
    {
     "data": {
      "image/png": "[encoded data removed]",
      "text/plain": [
       "<Figure size 1224x576 with 1 Axes>"
      ]
     },
     "metadata": {
      "needs_background": "light"
     },
     "output_type": "display_data"
    },
    {
     "data": {
      "image/png": "[encoded data removed]",
      "text/plain": [
       "<Figure size 1224x576 with 1 Axes>"
      ]
     },
     "metadata": {
      "needs_background": "light"
     },
     "output_type": "display_data"
    },
    {
     "data": {
      "image/png": "[encoded data removed]",
      "text/plain": [
       "<Figure size 1224x576 with 1 Axes>"
      ]
     },
     "metadata": {
      "needs_background": "light"
     },
     "output_type": "display_data"
    }
   ],
   "source": [
    "for var in ['dew_temperature','air_temperature','wind_speed']:\n",
    "    plot_hist(Weather_Train,var)"
   ]
  },
  {
   "cell_type": "code",
   "execution_count": 16,
   "id": "3519f6a4",
   "metadata": {
    "execution": {
     "iopub.execute_input": "2022-10-08T17:01:20.721036Z",
     "iopub.status.busy": "2022-10-08T17:01:20.719720Z",
     "iopub.status.idle": "2022-10-08T17:02:31.007921Z",
     "shell.execute_reply": "2022-10-08T17:02:31.006849Z"
    },
    "papermill": {
     "duration": 70.31914,
     "end_time": "2022-10-08T17:02:31.025054",
     "exception": false,
     "start_time": "2022-10-08T17:01:20.705914",
     "status": "completed"
    },
    "tags": []
   },
   "outputs": [
    {
     "data": {
      "text/plain": [
       "<AxesSubplot:xlabel='air_temperature', ylabel='meter_reading'>"
      ]
     },
     "execution_count": 16,
     "metadata": {},
     "output_type": "execute_result"
    },
    {
     "data": {
      "image/png": "[encoded data removed]",
      "text/plain": [
       "<Figure size 432x288 with 1 Axes>"
      ]
     },
     "metadata": {
      "needs_background": "light"
     },
     "output_type": "display_data"
    }
   ],
   "source": [
    "sns.scatterplot(x='air_temperature', y='meter_reading', data=data)"
   ]
  },
  {
   "cell_type": "code",
   "execution_count": 17,
   "id": "46feed3c",
   "metadata": {
    "execution": {
     "iopub.execute_input": "2022-10-08T17:02:31.054269Z",
     "iopub.status.busy": "2022-10-08T17:02:31.053825Z",
     "iopub.status.idle": "2022-10-08T17:02:34.284480Z",
     "shell.execute_reply": "2022-10-08T17:02:34.283598Z"
    },
    "papermill": {
     "duration": 3.247988,
     "end_time": "2022-10-08T17:02:34.286752",
     "exception": false,
     "start_time": "2022-10-08T17:02:31.038764",
     "status": "completed"
    },
    "tags": []
   },
   "outputs": [
    {
     "data": {
      "image/png": "[encoded data removed]",
      "text/plain": [
       "<Figure size 1008x432 with 1 Axes>"
      ]
     },
     "metadata": {
      "needs_background": "light"
     },
     "output_type": "display_data"
    }
   ],
   "source": [
    "fig, axes = plt.subplots(1, 1, figsize=(14, 6))\n",
    "sns.boxplot(x='floor_count', y='meter_reading', data=data, showfliers=False);"
   ]
  },
  {
   "cell_type": "code",
   "execution_count": 18,
   "id": "8f1f42c7",
   "metadata": {
    "execution": {
     "iopub.execute_input": "2022-10-08T17:02:34.316971Z",
     "iopub.status.busy": "2022-10-08T17:02:34.316039Z",
     "iopub.status.idle": "2022-10-08T17:02:39.752077Z",
     "shell.execute_reply": "2022-10-08T17:02:39.750932Z"
    },
    "papermill": {
     "duration": 5.454086,
     "end_time": "2022-10-08T17:02:39.754941",
     "exception": false,
     "start_time": "2022-10-08T17:02:34.300855",
     "status": "completed"
    },
    "tags": []
   },
   "outputs": [
    {
     "data": {
      "image/png": "[encoded data removed]",
      "text/plain": [
       "<Figure size 1008x432 with 1 Axes>"
      ]
     },
     "metadata": {
      "needs_background": "light"
     },
     "output_type": "display_data"
    }
   ],
   "source": [
    "fig, axes = plt.subplots(1, 1, figsize=(14, 6))\n",
    "sns.boxplot(x='site_id', y='dew_temperature', data=data, showfliers=False);"
   ]
  },
  {
   "cell_type": "code",
   "execution_count": 19,
   "id": "b1de40db",
   "metadata": {
    "execution": {
     "iopub.execute_input": "2022-10-08T17:02:39.788281Z",
     "iopub.status.busy": "2022-10-08T17:02:39.787580Z",
     "iopub.status.idle": "2022-10-08T17:02:52.700239Z",
     "shell.execute_reply": "2022-10-08T17:02:52.699102Z"
    },
    "papermill": {
     "duration": 12.932601,
     "end_time": "2022-10-08T17:02:52.702988",
     "exception": false,
     "start_time": "2022-10-08T17:02:39.770387",
     "status": "completed"
    },
    "tags": []
   },
   "outputs": [
    {
     "data": {
      "text/plain": [
       "<AxesSubplot:>"
      ]
     },
     "execution_count": 19,
     "metadata": {},
     "output_type": "execute_result"
    },
    {
     "data": {
      "image/png": "[encoded data removed]",
      "text/plain": [
       "<Figure size 864x720 with 2 Axes>"
      ]
     },
     "metadata": {
      "needs_background": "light"
     },
     "output_type": "display_data"
    }
   ],
   "source": [
    "corrmat=data.corr()\n",
    "fig,ax=plt.subplots(figsize=(12,10))\n",
    "sns.heatmap(corrmat,annot=True,annot_kws={'size': 12})"
   ]
  },
  {
   "cell_type": "code",
   "execution_count": 20,
   "id": "51df3f6b",
   "metadata": {
    "execution": {
     "iopub.execute_input": "2022-10-08T17:02:52.740480Z",
     "iopub.status.busy": "2022-10-08T17:02:52.740018Z",
     "iopub.status.idle": "2022-10-08T17:02:53.793859Z",
     "shell.execute_reply": "2022-10-08T17:02:53.792590Z"
    },
    "papermill": {
     "duration": 1.075524,
     "end_time": "2022-10-08T17:02:53.796594",
     "exception": false,
     "start_time": "2022-10-08T17:02:52.721070",
     "status": "completed"
    },
    "tags": []
   },
   "outputs": [],
   "source": [
    "# Eliminando columnas innecesarias\n",
    "data = data.drop(columns=['year_built', 'floor_count', 'wind_direction', 'dew_temperature'])"
   ]
  },
  {
   "cell_type": "code",
   "execution_count": 21,
   "id": "9aaa8e0c",
   "metadata": {
    "execution": {
     "iopub.execute_input": "2022-10-08T17:02:53.833359Z",
     "iopub.status.busy": "2022-10-08T17:02:53.832922Z",
     "iopub.status.idle": "2022-10-08T17:03:05.778948Z",
     "shell.execute_reply": "2022-10-08T17:03:05.777412Z"
    },
    "papermill": {
     "duration": 11.967059,
     "end_time": "2022-10-08T17:03:05.781649",
     "exception": false,
     "start_time": "2022-10-08T17:02:53.814590",
     "status": "completed"
    },
    "tags": []
   },
   "outputs": [],
   "source": [
    "# Arreglando el \"timestamp\" y tomando solo el día y el mes y luego soltando la columna de \"timestamp\"\n",
    "data[\"timestamp\"] = pd.to_datetime(data[\"timestamp\"])\n",
    "data[\"day\"]= data[\"timestamp\"].dt.day\n",
    "data[\"month\"]= data[\"timestamp\"].dt.month\n",
    "data['weekend'] = data['timestamp'].dt.dayofweek.isin([5,6]).astype('uint8')\n",
    "data= data.drop(\"timestamp\", axis = 1)"
   ]
  },
  {
   "cell_type": "code",
   "execution_count": 22,
   "id": "6a0d8bf7",
   "metadata": {
    "execution": {
     "iopub.execute_input": "2022-10-08T17:03:05.818896Z",
     "iopub.status.busy": "2022-10-08T17:03:05.818440Z",
     "iopub.status.idle": "2022-10-08T17:03:06.590316Z",
     "shell.execute_reply": "2022-10-08T17:03:06.589082Z"
    },
    "papermill": {
     "duration": 0.793093,
     "end_time": "2022-10-08T17:03:06.592800",
     "exception": false,
     "start_time": "2022-10-08T17:03:05.799707",
     "status": "completed"
    },
    "tags": []
   },
   "outputs": [
    {
     "name": "stdout",
     "output_type": "stream",
     "text": [
      "Percentage of missing values in the data dataset\n"
     ]
    },
    {
     "data": {
      "text/plain": [
       "site_id                0.000000\n",
       "building_id            0.000000\n",
       "primary_use            0.000000\n",
       "square_feet            0.000000\n",
       "meter                  0.000000\n",
       "meter_reading          0.000000\n",
       "air_temperature        0.478124\n",
       "cloud_coverage        43.655131\n",
       "precip_depth_1_hr     18.544739\n",
       "sea_level_pressure     6.092515\n",
       "wind_speed             0.710701\n",
       "day                    0.000000\n",
       "month                  0.000000\n",
       "weekend                0.000000\n",
       "dtype: float64"
      ]
     },
     "execution_count": 22,
     "metadata": {},
     "output_type": "execute_result"
    }
   ],
   "source": [
    "#Printing the \"Percentage of missing values\" to see what is going to be dropped and what is going to be filled\n",
    "print(\"Percentage of missing values in the data dataset\")\n",
    "data.isna().sum()/len(data)*100"
   ]
  },
  {
   "cell_type": "code",
   "execution_count": 23,
   "id": "70374b45",
   "metadata": {
    "execution": {
     "iopub.execute_input": "2022-10-08T17:03:06.629051Z",
     "iopub.status.busy": "2022-10-08T17:03:06.628608Z",
     "iopub.status.idle": "2022-10-08T17:03:06.650571Z",
     "shell.execute_reply": "2022-10-08T17:03:06.649223Z"
    },
    "papermill": {
     "duration": 0.043106,
     "end_time": "2022-10-08T17:03:06.653158",
     "exception": false,
     "start_time": "2022-10-08T17:03:06.610052",
     "status": "completed"
    },
    "tags": []
   },
   "outputs": [
    {
     "data": {
      "text/html": [
       "<div>\n",
       "<style scoped>\n",
       "    .dataframe tbody tr th:only-of-type {\n",
       "        vertical-align: middle;\n",
       "    }\n",
       "\n",
       "    .dataframe tbody tr th {\n",
       "        vertical-align: top;\n",
       "    }\n",
       "\n",
       "    .dataframe thead th {\n",
       "        text-align: right;\n",
       "    }\n",
       "</style>\n",
       "<table border=\"1\" class=\"dataframe\">\n",
       "  <thead>\n",
       "    <tr style=\"text-align: right;\">\n",
       "      <th></th>\n",
       "      <th>site_id</th>\n",
       "      <th>building_id</th>\n",
       "      <th>primary_use</th>\n",
       "      <th>square_feet</th>\n",
       "      <th>meter</th>\n",
       "      <th>meter_reading</th>\n",
       "      <th>air_temperature</th>\n",
       "      <th>cloud_coverage</th>\n",
       "      <th>precip_depth_1_hr</th>\n",
       "      <th>sea_level_pressure</th>\n",
       "      <th>wind_speed</th>\n",
       "      <th>day</th>\n",
       "      <th>month</th>\n",
       "      <th>weekend</th>\n",
       "    </tr>\n",
       "  </thead>\n",
       "  <tbody>\n",
       "    <tr>\n",
       "      <th>0</th>\n",
       "      <td>0</td>\n",
       "      <td>0</td>\n",
       "      <td>Education</td>\n",
       "      <td>7432</td>\n",
       "      <td>0</td>\n",
       "      <td>0.0</td>\n",
       "      <td>25.000000</td>\n",
       "      <td>6.0</td>\n",
       "      <td>NaN</td>\n",
       "      <td>1019.5</td>\n",
       "      <td>0.000000</td>\n",
       "      <td>1</td>\n",
       "      <td>1</td>\n",
       "      <td>0</td>\n",
       "    </tr>\n",
       "    <tr>\n",
       "      <th>1</th>\n",
       "      <td>0</td>\n",
       "      <td>0</td>\n",
       "      <td>Education</td>\n",
       "      <td>7432</td>\n",
       "      <td>0</td>\n",
       "      <td>0.0</td>\n",
       "      <td>24.406250</td>\n",
       "      <td>NaN</td>\n",
       "      <td>-1.0</td>\n",
       "      <td>1020.0</td>\n",
       "      <td>1.500000</td>\n",
       "      <td>1</td>\n",
       "      <td>1</td>\n",
       "      <td>0</td>\n",
       "    </tr>\n",
       "    <tr>\n",
       "      <th>2</th>\n",
       "      <td>0</td>\n",
       "      <td>0</td>\n",
       "      <td>Education</td>\n",
       "      <td>7432</td>\n",
       "      <td>0</td>\n",
       "      <td>0.0</td>\n",
       "      <td>22.796875</td>\n",
       "      <td>2.0</td>\n",
       "      <td>0.0</td>\n",
       "      <td>1020.0</td>\n",
       "      <td>0.000000</td>\n",
       "      <td>1</td>\n",
       "      <td>1</td>\n",
       "      <td>0</td>\n",
       "    </tr>\n",
       "    <tr>\n",
       "      <th>3</th>\n",
       "      <td>0</td>\n",
       "      <td>0</td>\n",
       "      <td>Education</td>\n",
       "      <td>7432</td>\n",
       "      <td>0</td>\n",
       "      <td>0.0</td>\n",
       "      <td>21.093750</td>\n",
       "      <td>2.0</td>\n",
       "      <td>0.0</td>\n",
       "      <td>1020.0</td>\n",
       "      <td>0.000000</td>\n",
       "      <td>1</td>\n",
       "      <td>1</td>\n",
       "      <td>0</td>\n",
       "    </tr>\n",
       "    <tr>\n",
       "      <th>4</th>\n",
       "      <td>0</td>\n",
       "      <td>0</td>\n",
       "      <td>Education</td>\n",
       "      <td>7432</td>\n",
       "      <td>0</td>\n",
       "      <td>0.0</td>\n",
       "      <td>20.000000</td>\n",
       "      <td>2.0</td>\n",
       "      <td>-1.0</td>\n",
       "      <td>1020.0</td>\n",
       "      <td>2.599609</td>\n",
       "      <td>1</td>\n",
       "      <td>1</td>\n",
       "      <td>0</td>\n",
       "    </tr>\n",
       "  </tbody>\n",
       "</table>\n",
       "</div>"
      ],
      "text/plain": [
       "   site_id  building_id primary_use  square_feet  meter  meter_reading  \\\n",
       "0        0            0   Education         7432      0            0.0   \n",
       "1        0            0   Education         7432      0            0.0   \n",
       "2        0            0   Education         7432      0            0.0   \n",
       "3        0            0   Education         7432      0            0.0   \n",
       "4        0            0   Education         7432      0            0.0   \n",
       "\n",
       "   air_temperature  cloud_coverage  precip_depth_1_hr  sea_level_pressure  \\\n",
       "0        25.000000             6.0                NaN              1019.5   \n",
       "1        24.406250             NaN               -1.0              1020.0   \n",
       "2        22.796875             2.0                0.0              1020.0   \n",
       "3        21.093750             2.0                0.0              1020.0   \n",
       "4        20.000000             2.0               -1.0              1020.0   \n",
       "\n",
       "   wind_speed  day  month  weekend  \n",
       "0    0.000000    1      1        0  \n",
       "1    1.500000    1      1        0  \n",
       "2    0.000000    1      1        0  \n",
       "3    0.000000    1      1        0  \n",
       "4    2.599609    1      1        0  "
      ]
     },
     "execution_count": 23,
     "metadata": {},
     "output_type": "execute_result"
    }
   ],
   "source": [
    "# Primeros registros de \"data\"\n",
    "data.head()"
   ]
  },
  {
   "cell_type": "code",
   "execution_count": 24,
   "id": "55c6f20c",
   "metadata": {
    "execution": {
     "iopub.execute_input": "2022-10-08T17:03:06.690082Z",
     "iopub.status.busy": "2022-10-08T17:03:06.689674Z",
     "iopub.status.idle": "2022-10-08T17:03:07.065741Z",
     "shell.execute_reply": "2022-10-08T17:03:07.064255Z"
    },
    "papermill": {
     "duration": 0.398111,
     "end_time": "2022-10-08T17:03:07.068921",
     "exception": false,
     "start_time": "2022-10-08T17:03:06.670810",
     "status": "completed"
    },
    "tags": []
   },
   "outputs": [],
   "source": [
    "# Establece una lista de enteros que van desde 0 hasta la longitud de los datos como índice\n",
    "data = data.reset_index()"
   ]
  },
  {
   "cell_type": "code",
   "execution_count": 25,
   "id": "8b58110e",
   "metadata": {
    "execution": {
     "iopub.execute_input": "2022-10-08T17:03:07.106687Z",
     "iopub.status.busy": "2022-10-08T17:03:07.106259Z",
     "iopub.status.idle": "2022-10-08T17:03:07.737178Z",
     "shell.execute_reply": "2022-10-08T17:03:07.735974Z"
    },
    "papermill": {
     "duration": 0.652931,
     "end_time": "2022-10-08T17:03:07.740050",
     "exception": false,
     "start_time": "2022-10-08T17:03:07.087119",
     "status": "completed"
    },
    "tags": []
   },
   "outputs": [],
   "source": [
    "# Cambio del tipo de datos a float 32 para completar el valor NA antes de transformarlos en \"int\" para un procesamiento de modelado sin problemas\n",
    "data['wind_speed'] = data['wind_speed'].astype('float32')\n",
    "data['air_temperature'] = data['air_temperature'].astype('float32')\n",
    "data['precip_depth_1_hr'] = data['precip_depth_1_hr'].astype('float32')\n",
    "data['cloud_coverage'] = data['cloud_coverage'].astype('float32')"
   ]
  },
  {
   "cell_type": "code",
   "execution_count": 26,
   "id": "ebbae0b5",
   "metadata": {
    "execution": {
     "iopub.execute_input": "2022-10-08T17:03:07.778914Z",
     "iopub.status.busy": "2022-10-08T17:03:07.778492Z",
     "iopub.status.idle": "2022-10-08T17:03:08.794099Z",
     "shell.execute_reply": "2022-10-08T17:03:08.792831Z"
    },
    "papermill": {
     "duration": 1.038091,
     "end_time": "2022-10-08T17:03:08.796815",
     "exception": false,
     "start_time": "2022-10-08T17:03:07.758724",
     "status": "completed"
    },
    "tags": []
   },
   "outputs": [
    {
     "data": {
      "text/plain": [
       "index                       0\n",
       "site_id                     0\n",
       "building_id                 0\n",
       "primary_use                 0\n",
       "square_feet                 0\n",
       "meter                       0\n",
       "meter_reading               0\n",
       "air_temperature             0\n",
       "cloud_coverage              0\n",
       "precip_depth_1_hr           0\n",
       "sea_level_pressure    1231669\n",
       "wind_speed                  0\n",
       "day                         0\n",
       "month                       0\n",
       "weekend                     0\n",
       "dtype: int64"
      ]
     },
     "execution_count": 26,
     "metadata": {},
     "output_type": "execute_result"
    }
   ],
   "source": [
    "# Llenando los valores nulos\n",
    "data['precip_depth_1_hr'].fillna(data['precip_depth_1_hr'].mean(), inplace = True)\n",
    "data['cloud_coverage'].fillna(data['cloud_coverage'].mean(), inplace = True)\n",
    "data['wind_speed'].fillna(data['wind_speed'].mean(), inplace=True)\n",
    "data['air_temperature'].fillna(data['air_temperature'].mean(), inplace=True)\n",
    "\n",
    "# Suma de \"nulls\" dentro de las columnas\n",
    "data.isnull().sum()"
   ]
  },
  {
   "cell_type": "code",
   "execution_count": 27,
   "id": "e70a4fb6",
   "metadata": {
    "execution": {
     "iopub.execute_input": "2022-10-08T17:03:08.834524Z",
     "iopub.status.busy": "2022-10-08T17:03:08.834099Z",
     "iopub.status.idle": "2022-10-08T17:03:08.841456Z",
     "shell.execute_reply": "2022-10-08T17:03:08.840296Z"
    },
    "papermill": {
     "duration": 0.029197,
     "end_time": "2022-10-08T17:03:08.843967",
     "exception": false,
     "start_time": "2022-10-08T17:03:08.814770",
     "status": "completed"
    },
    "tags": []
   },
   "outputs": [
    {
     "data": {
      "text/plain": [
       "(20216100, 9)"
      ]
     },
     "execution_count": 27,
     "metadata": {},
     "output_type": "execute_result"
    }
   ],
   "source": [
    "# Perfil de \"results\"\n",
    "results.shape"
   ]
  },
  {
   "cell_type": "code",
   "execution_count": 28,
   "id": "15c03ee7",
   "metadata": {
    "execution": {
     "iopub.execute_input": "2022-10-08T17:03:08.881928Z",
     "iopub.status.busy": "2022-10-08T17:03:08.881499Z",
     "iopub.status.idle": "2022-10-08T17:03:08.888842Z",
     "shell.execute_reply": "2022-10-08T17:03:08.887748Z"
    },
    "papermill": {
     "duration": 0.029157,
     "end_time": "2022-10-08T17:03:08.891333",
     "exception": false,
     "start_time": "2022-10-08T17:03:08.862176",
     "status": "completed"
    },
    "tags": []
   },
   "outputs": [
    {
     "data": {
      "text/plain": [
       "Index(['site_id', 'building_id', 'primary_use', 'square_feet', 'year_built',\n",
       "       'floor_count', 'meter', 'timestamp', 'meter_reading'],\n",
       "      dtype='object')"
      ]
     },
     "execution_count": 28,
     "metadata": {},
     "output_type": "execute_result"
    }
   ],
   "source": [
    "# Columnas de \"results\"\n",
    "results.columns"
   ]
  },
  {
   "cell_type": "code",
   "execution_count": 29,
   "id": "9d17bb86",
   "metadata": {
    "execution": {
     "iopub.execute_input": "2022-10-08T17:03:08.930584Z",
     "iopub.status.busy": "2022-10-08T17:03:08.929673Z",
     "iopub.status.idle": "2022-10-08T17:03:08.935985Z",
     "shell.execute_reply": "2022-10-08T17:03:08.935052Z"
    },
    "papermill": {
     "duration": 0.028652,
     "end_time": "2022-10-08T17:03:08.938132",
     "exception": false,
     "start_time": "2022-10-08T17:03:08.909480",
     "status": "completed"
    },
    "tags": []
   },
   "outputs": [
    {
     "data": {
      "text/plain": [
       "(20216100, 15)"
      ]
     },
     "execution_count": 29,
     "metadata": {},
     "output_type": "execute_result"
    }
   ],
   "source": [
    "# Perfil de \"data\"\n",
    "data.shape"
   ]
  },
  {
   "cell_type": "code",
   "execution_count": 30,
   "id": "2bdc0e62",
   "metadata": {
    "execution": {
     "iopub.execute_input": "2022-10-08T17:03:08.977041Z",
     "iopub.status.busy": "2022-10-08T17:03:08.976497Z",
     "iopub.status.idle": "2022-10-08T17:03:08.984163Z",
     "shell.execute_reply": "2022-10-08T17:03:08.982864Z"
    },
    "papermill": {
     "duration": 0.030128,
     "end_time": "2022-10-08T17:03:08.986454",
     "exception": false,
     "start_time": "2022-10-08T17:03:08.956326",
     "status": "completed"
    },
    "tags": []
   },
   "outputs": [
    {
     "data": {
      "text/plain": [
       "Index(['index', 'site_id', 'building_id', 'primary_use', 'square_feet',\n",
       "       'meter', 'meter_reading', 'air_temperature', 'cloud_coverage',\n",
       "       'precip_depth_1_hr', 'sea_level_pressure', 'wind_speed', 'day', 'month',\n",
       "       'weekend'],\n",
       "      dtype='object')"
      ]
     },
     "execution_count": 30,
     "metadata": {},
     "output_type": "execute_result"
    }
   ],
   "source": [
    "# Columnas de \"data\"\n",
    "data.columns"
   ]
  },
  {
   "cell_type": "code",
   "execution_count": 31,
   "id": "48a73100",
   "metadata": {
    "execution": {
     "iopub.execute_input": "2022-10-08T17:03:09.025072Z",
     "iopub.status.busy": "2022-10-08T17:03:09.024612Z",
     "iopub.status.idle": "2022-10-08T17:03:13.048359Z",
     "shell.execute_reply": "2022-10-08T17:03:13.047167Z"
    },
    "papermill": {
     "duration": 4.046276,
     "end_time": "2022-10-08T17:03:13.051063",
     "exception": false,
     "start_time": "2022-10-08T17:03:09.004787",
     "status": "completed"
    },
    "tags": []
   },
   "outputs": [],
   "source": [
    "# Aquí la columna 'primaty_use' fue tratada por la función get_dummies y get_dummies se usa para la manipulación de datos\n",
    "data_linearR = pd.get_dummies(data, columns=['primary_use'])"
   ]
  },
  {
   "cell_type": "code",
   "execution_count": 32,
   "id": "e5503167",
   "metadata": {
    "execution": {
     "iopub.execute_input": "2022-10-08T17:03:13.092393Z",
     "iopub.status.busy": "2022-10-08T17:03:13.091954Z",
     "iopub.status.idle": "2022-10-08T17:03:13.100018Z",
     "shell.execute_reply": "2022-10-08T17:03:13.098786Z"
    },
    "papermill": {
     "duration": 0.031262,
     "end_time": "2022-10-08T17:03:13.102399",
     "exception": false,
     "start_time": "2022-10-08T17:03:13.071137",
     "status": "completed"
    },
    "tags": []
   },
   "outputs": [
    {
     "data": {
      "text/plain": [
       "Index(['index', 'site_id', 'building_id', 'square_feet', 'meter',\n",
       "       'meter_reading', 'air_temperature', 'cloud_coverage',\n",
       "       'precip_depth_1_hr', 'sea_level_pressure', 'wind_speed', 'day', 'month',\n",
       "       'weekend', 'primary_use_Education',\n",
       "       'primary_use_Entertainment/public assembly',\n",
       "       'primary_use_Food sales and service', 'primary_use_Healthcare',\n",
       "       'primary_use_Lodging/residential',\n",
       "       'primary_use_Manufacturing/industrial', 'primary_use_Office',\n",
       "       'primary_use_Other', 'primary_use_Parking',\n",
       "       'primary_use_Public services', 'primary_use_Religious worship',\n",
       "       'primary_use_Retail', 'primary_use_Services',\n",
       "       'primary_use_Technology/science', 'primary_use_Utility',\n",
       "       'primary_use_Warehouse/storage'],\n",
       "      dtype='object')"
      ]
     },
     "execution_count": 32,
     "metadata": {},
     "output_type": "execute_result"
    }
   ],
   "source": [
    "# Columnas de \"data_linearR\"\n",
    "data_linearR.columns"
   ]
  },
  {
   "cell_type": "code",
   "execution_count": 33,
   "id": "26e77d7d",
   "metadata": {
    "execution": {
     "iopub.execute_input": "2022-10-08T17:03:13.141698Z",
     "iopub.status.busy": "2022-10-08T17:03:13.141281Z",
     "iopub.status.idle": "2022-10-08T17:03:31.142281Z",
     "shell.execute_reply": "2022-10-08T17:03:31.141112Z"
    },
    "papermill": {
     "duration": 18.024235,
     "end_time": "2022-10-08T17:03:31.145286",
     "exception": false,
     "start_time": "2022-10-08T17:03:13.121051",
     "status": "completed"
    },
    "tags": []
   },
   "outputs": [],
   "source": [
    "#Using the important features \n",
    "X =data_linearR[['building_id', 'meter', 'air_temperature', 'wind_speed', 'precip_depth_1_hr', 'cloud_coverage',\n",
    "       'square_feet', 'primary_use_Education', 'primary_use_Entertainment/public assembly',\n",
    "       'primary_use_Food sales and service', 'primary_use_Healthcare',\n",
    "       'primary_use_Lodging/residential',\n",
    "       'primary_use_Manufacturing/industrial', 'primary_use_Office',\n",
    "       'primary_use_Other', 'primary_use_Parking',\n",
    "       'primary_use_Public services', 'primary_use_Religious worship',\n",
    "       'primary_use_Retail', 'primary_use_Services',\n",
    "       'primary_use_Technology/science', 'primary_use_Utility',\n",
    "       'primary_use_Warehouse/storage', 'month', 'day','weekend']]\n",
    "\n",
    "# Create target variable\n",
    "y = data_linearR['meter_reading']\n",
    "\n",
    "# Train, test, split\n",
    "X_train, X_test, y_train, y_test = train_test_split(X,y, test_size = .20, random_state= 0)"
   ]
  },
  {
   "cell_type": "code",
   "execution_count": 34,
   "id": "7240df97",
   "metadata": {
    "execution": {
     "iopub.execute_input": "2022-10-08T17:03:31.184691Z",
     "iopub.status.busy": "2022-10-08T17:03:31.184269Z",
     "iopub.status.idle": "2022-10-08T17:03:56.029538Z",
     "shell.execute_reply": "2022-10-08T17:03:56.028160Z"
    },
    "papermill": {
     "duration": 24.869101,
     "end_time": "2022-10-08T17:03:56.033216",
     "exception": false,
     "start_time": "2022-10-08T17:03:31.164115",
     "status": "completed"
    },
    "tags": []
   },
   "outputs": [
    {
     "data": {
      "text/plain": [
       "LinearRegression()"
      ]
     },
     "execution_count": 34,
     "metadata": {},
     "output_type": "execute_result"
    }
   ],
   "source": [
    "# Creación del objeto de regresión lineal\n",
    "regressor = LinearRegression()\n",
    "\n",
    "# Ajuste del modelo a los datos de entrenamiento\n",
    "regressor.fit(X_train,y_train)"
   ]
  },
  {
   "cell_type": "code",
   "execution_count": 35,
   "id": "217525bf",
   "metadata": {
    "execution": {
     "iopub.execute_input": "2022-10-08T17:03:56.080422Z",
     "iopub.status.busy": "2022-10-08T17:03:56.079739Z",
     "iopub.status.idle": "2022-10-08T17:03:56.452177Z",
     "shell.execute_reply": "2022-10-08T17:03:56.450560Z"
    },
    "papermill": {
     "duration": 0.399767,
     "end_time": "2022-10-08T17:03:56.455856",
     "exception": false,
     "start_time": "2022-10-08T17:03:56.056089",
     "status": "completed"
    },
    "tags": []
   },
   "outputs": [],
   "source": [
    "# Predicción de los resultados del conjunto de pruebas\n",
    "y_pred = regressor.predict(X_test)"
   ]
  },
  {
   "cell_type": "code",
   "execution_count": 36,
   "id": "0cbd31aa",
   "metadata": {
    "execution": {
     "iopub.execute_input": "2022-10-08T17:03:56.521798Z",
     "iopub.status.busy": "2022-10-08T17:03:56.520656Z",
     "iopub.status.idle": "2022-10-08T17:03:58.862686Z",
     "shell.execute_reply": "2022-10-08T17:03:58.861296Z"
    },
    "papermill": {
     "duration": 2.378311,
     "end_time": "2022-10-08T17:03:58.865768",
     "exception": false,
     "start_time": "2022-10-08T17:03:56.487457",
     "status": "completed"
    },
    "tags": []
   },
   "outputs": [
    {
     "name": "stdout",
     "output_type": "stream",
     "text": [
      "Accuracy %d 0.0011691858143761946\n",
      "R^2 = 0.0011702499876341532\n"
     ]
    },
    {
     "data": {
      "text/plain": [
       "0.0010959958274836534"
      ]
     },
     "execution_count": 36,
     "metadata": {},
     "output_type": "execute_result"
    }
   ],
   "source": [
    "# R^2 y precisión del modelo lineal; Versión adaptada de: https://www.kaggle.com/code/abdelrahmanemad22/csci417-notebook-eda-features-eng-linear-reg-p1\n",
    "print('Accuracy %d', regressor.score(X_test, y_test))\n",
    "print('R^2 =', metrics.explained_variance_score(y_test,y_pred))\n",
    "regressor.score(X_train,y_train)"
   ]
  },
  {
   "cell_type": "code",
   "execution_count": 37,
   "id": "a01669a7",
   "metadata": {
    "execution": {
     "iopub.execute_input": "2022-10-08T17:03:58.906319Z",
     "iopub.status.busy": "2022-10-08T17:03:58.905887Z",
     "iopub.status.idle": "2022-10-08T17:08:34.309274Z",
     "shell.execute_reply": "2022-10-08T17:08:34.307843Z"
    },
    "papermill": {
     "duration": 275.44693,
     "end_time": "2022-10-08T17:08:34.332228",
     "exception": false,
     "start_time": "2022-10-08T17:03:58.885298",
     "status": "completed"
    },
    "tags": []
   },
   "outputs": [
    {
     "data": {
      "text/plain": [
       "DecisionTreeRegressor(random_state=1)"
      ]
     },
     "execution_count": 37,
     "metadata": {},
     "output_type": "execute_result"
    }
   ],
   "source": [
    "tree_model = DecisionTreeRegressor(random_state=1)\n",
    "tree_model.fit(X_train, y_train)"
   ]
  },
  {
   "cell_type": "code",
   "execution_count": 38,
   "id": "89eef934",
   "metadata": {
    "execution": {
     "iopub.execute_input": "2022-10-08T17:08:34.373607Z",
     "iopub.status.busy": "2022-10-08T17:08:34.373180Z",
     "iopub.status.idle": "2022-10-08T17:08:42.880634Z",
     "shell.execute_reply": "2022-10-08T17:08:42.879095Z"
    },
    "papermill": {
     "duration": 8.531568,
     "end_time": "2022-10-08T17:08:42.883430",
     "exception": false,
     "start_time": "2022-10-08T17:08:34.351862",
     "status": "completed"
    },
    "tags": []
   },
   "outputs": [
    {
     "name": "stdout",
     "output_type": "stream",
     "text": [
      "387.407899678713\n"
     ]
    }
   ],
   "source": [
    "meter_preds = tree_model.predict(X_test)\n",
    "print(mean_absolute_error(y_test, meter_preds))"
   ]
  },
  {
   "cell_type": "code",
   "execution_count": 39,
   "id": "b058d073",
   "metadata": {
    "execution": {
     "iopub.execute_input": "2022-10-08T17:08:42.926516Z",
     "iopub.status.busy": "2022-10-08T17:08:42.925419Z",
     "iopub.status.idle": "2022-10-08T17:08:42.933574Z",
     "shell.execute_reply": "2022-10-08T17:08:42.931905Z"
    },
    "papermill": {
     "duration": 0.033069,
     "end_time": "2022-10-08T17:08:42.936857",
     "exception": false,
     "start_time": "2022-10-08T17:08:42.903788",
     "status": "completed"
    },
    "tags": []
   },
   "outputs": [
    {
     "name": "stdout",
     "output_type": "stream",
     "text": [
      "102.28 95.80000305175781\n",
      "0.0 0.0\n",
      "288.116 259.7300109863281\n",
      "63.067 64.57599639892578\n",
      "17.05 18.09000015258789\n",
      "359.848 380.1719970703125\n",
      "4867.8 167.75\n",
      "33.5859 29.084299087524414\n",
      "348.0 370.0\n",
      "0.0 0.0\n",
      "244.236 257.8970031738281\n",
      "15.6067 15.882466316223145\n",
      "268.226 267.22601318359375\n",
      "328.094 266.9880065917969\n",
      "18.1667 18.16670036315918\n",
      "619.431 565.968017578125\n",
      "71.09 38.81999969482422\n",
      "0.0 0.0\n",
      "101.398 84.9739990234375\n",
      "320.476 104.40399932861328\n",
      "516.9 486.1000061035156\n",
      "25.04 26.18000030517578\n",
      "943.49 1153.5\n",
      "184.283 183.54400634765625\n",
      "77.25 541.9000244140625\n"
     ]
    }
   ],
   "source": [
    "for i in range(25):\n",
    "    print(y_test.values[i],meter_preds[i])"
   ]
  }
 ],
 "metadata": {
  "kernelspec": {
   "display_name": "Python 3",
   "language": "python",
   "name": "python3"
  },
  "language_info": {
   "codemirror_mode": {
    "name": "ipython",
    "version": 3
   },
   "file_extension": ".py",
   "mimetype": "text/x-python",
   "name": "python",
   "nbconvert_exporter": "python",
   "pygments_lexer": "ipython3",
   "version": "3.7.12"
  },
  "papermill": {
   "default_parameters": {},
   "duration": 553.527484,
   "end_time": "2022-10-08T17:08:44.182638",
   "environment_variables": {},
   "exception": null,
   "input_path": "__notebook__.ipynb",
   "output_path": "__notebook__.ipynb",
   "parameters": {},
   "start_time": "2022-10-08T16:59:30.655154",
   "version": "2.3.4"
  }
 },
 "nbformat": 4,
 "nbformat_minor": 5
}
