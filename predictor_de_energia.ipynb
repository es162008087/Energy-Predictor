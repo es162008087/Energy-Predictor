version https://git-lfs.github.com/spec/v1
oid sha256:0995f663a1be480b9a1e972ef58381ed1a4ff704efbc2ed0e664d9527fec5393
size 671904
