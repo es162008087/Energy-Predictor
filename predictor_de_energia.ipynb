version https://git-lfs.github.com/spec/v1
oid sha256:2b5becf2bce3d39f4667247b242162e09231d5a4fcaac4ef5e496a2fad516ebf
size 682230
