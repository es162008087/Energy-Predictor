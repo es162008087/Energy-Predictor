version https://git-lfs.github.com/spec/v1
oid sha256:2fe74500786179119c310beda641941bfa0a9cab893056fb955182ffd57309fa
size 429737
